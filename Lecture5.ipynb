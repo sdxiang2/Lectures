{
 "cells": [
  {
   "cell_type": "code",
   "execution_count": null,
   "metadata": {},
   "outputs": [],
   "source": []
  },
  {
   "cell_type": "markdown",
   "metadata": {},
   "source": [
    "# Lecture 5, The Pendulum \n",
    "\n",
    "**Overview:**\n",
    "* Pendulum class\n",
    "* Phase space plots\n",
    "* Energy conservation and ODE integrators\n",
    "\n",
    "---"
   ]
  },
  {
   "cell_type": "code",
   "execution_count": null,
   "metadata": {},
   "outputs": [],
   "source": [
    "# Keep import statement in their own cell at the top\n",
    "import matplotlib.pyplot as plt # for plotting          \n",
    "import numpy as np\n",
    "\n",
    "# import our Pendulum class from Particle1D\n",
    "from Particle1D import Pendulum"
   ]
  },
  {
   "cell_type": "markdown",
   "metadata": {},
   "source": [
    "Below we will explore the behavior of a driven non-linear pendulum using our ODE class. The Pendulum class is a sub-class of `Particle` that we worked with in Lecture3. There are some modifications to fix the range of the pendulum displacement $\\theta: [-\\pi, \\pi]$. \n",
    "\n",
    "When creating a new instance of Pendulum, we can provide many arguments that describe a driven damped oscillator:\n",
    "\n",
    "        P = Pendulum(l = 9.8, m = 1.0, x0 = 0.0 ,v0 = 0.0, tf = 50.0, dt = 0.001)\n",
    "        \n",
    "        l: length of pendulum\n",
    "        m: mass of pendulum\n",
    "        x0: initial displacement\n",
    "        v0: initial velocity\n",
    "        tf: final time for our calculation\n",
    "        dt: time step size"
   ]
  },
  {
   "cell_type": "markdown",
   "metadata": {},
   "source": [
    "## The  pendulum class\n",
    "\n",
    "* Create a new instance of pendulum and explore the attributes using tab completion\n",
    "* Make sure you understand how the code below is working.\n",
    "* Try modifying the class to include a custom RK4 integrator. *Note that, if you modify the class, you must* `restart` *kernal and re-run import statements for changes to take effect*.\n"
   ]
  },
  {
   "cell_type": "code",
   "execution_count": null,
   "metadata": {},
   "outputs": [],
   "source": [
    "p1 = Pendulum()\n",
    "p2 = Pendulum(x0 = 0.5, l = 22)"
   ]
  },
  {
   "cell_type": "code",
   "execution_count": null,
   "metadata": {},
   "outputs": [],
   "source": [
    "print('Particle 1:')\n",
    "p1.results()\n",
    "p1.Euler_step()\n",
    "print('\\n')\n",
    "\n",
    "print('Particle 2:')\n",
    "p2.results()\n",
    "p2.Verlet_step()\n"
   ]
  },
  {
   "cell_type": "markdown",
   "metadata": {},
   "source": [
    "## Plotting trajectories\n",
    "\n",
    "* What do you notice about the shape of the trajectory as the driving force is increased?\n",
    "* Do you notice anything different about the trajectories from the different integrators?\n",
    "* Try extending out to very long final times, what happens to the trajectory for each integrator?\n",
    "* Not make `tf ~ 100`, and play around with different size timesteps `dt`. What happens to the trajectories for each integrator when the timestep is very large? Very small?"
   ]
  },
  {
   "cell_type": "code",
   "execution_count": null,
   "metadata": {
    "scrolled": true
   },
   "outputs": [],
   "source": [
    "fig = plt.figure(figsize = [7,7])\n",
    "ax1 = fig.add_subplot(311)\n",
    "ax2 = fig.add_subplot(312)\n",
    "ax3 = fig.add_subplot(313)\n",
    "    \n",
    "# Loop over different initial displacements and plot angle vs time for driven pendulum\n",
    "    \n",
    "# maximum initial displacement is 1, corresponds to pi radians.\n",
    "x0s= [0.01, 0.1]\n",
    "\n",
    "for x0 in x0s:\n",
    "    p = Pendulum(x0 = np.pi*x0, tf= 40, dt = 1e-3)\n",
    "    p.Euler_trajectory() \n",
    "    p.verlet_trajectory() \n",
    "    p.scipy_trajectory() #Use scipy ODEint \n",
    "    \n",
    "    ax1.plot(p.tarray, p.x_euler/x0/np.pi, lw = 2, label = \"$\\\\theta_0$ = {}\".format(x0))\n",
    "    ax2.plot(p.tarray, p.x_verlet/x0/np.pi, lw = 2, label = \"$\\\\theta_0$ = {}\".format(x0))\n",
    "    ax3.plot(p.tarray, p.xv[:,0]/x0/np.pi, lw = 2, label = \"$\\\\theta_0$ = {}\".format(x0))\n",
    "\n",
    "for ax in [ax1,ax2,ax3]:\n",
    "    ax.set_xlabel('t (s)',fontsize = 18)\n",
    "    ax.set_ylabel('$\\\\theta / \\\\theta_0$', fontsize = 18)\n",
    "    ax.legend(loc = 4)\n",
    "plt.show()\n"
   ]
  },
  {
   "cell_type": "markdown",
   "metadata": {},
   "source": [
    "## Phase space plots\n",
    "\n",
    "* Explore the phase space plots for different values of starting amplitude, `dt`, and `tf`. \n",
    "* How do the phase space plots compare for the different ODE integrations schemes?"
   ]
  },
  {
   "cell_type": "code",
   "execution_count": null,
   "metadata": {},
   "outputs": [],
   "source": [
    "theta0 = 0.2\n",
    "tf = 100\n",
    "dt = 0.01\n",
    "\n",
    "#fig = plt.figure()\n",
    "#ax = fig.add_subplot(111)\n",
    "\n",
    "# Initialize objects and calculate trajectories\n",
    "p1 = Pendulum(x0 = theta0, tf = tf, dt = dt)\n",
    "p1.Euler_trajectory()\n",
    "p1.verlet_trajectory()\n",
    "p1.scipy_trajectory()\n",
    "p1.plot(pt = 'phase')    #I cannot figure out why phase space plots show up twice???"
   ]
  },
  {
   "cell_type": "markdown",
   "metadata": {},
   "source": [
    "### Energy conservation\n",
    "* Modify the pendulum class to include a method that calculates the total energy of the pendulum as a function of time.\n",
    "* Calculate and plot the total pendulum energy using each of the ODE integrators: Euler, scipy, verlet, rk4, etc.."
   ]
  },
  {
   "cell_type": "code",
   "execution_count": null,
   "metadata": {},
   "outputs": [],
   "source": []
  },
  {
   "cell_type": "code",
   "execution_count": null,
   "metadata": {},
   "outputs": [],
   "source": []
  }
 ],
 "metadata": {
  "kernelspec": {
   "display_name": "Python 3",
   "language": "python",
   "name": "phys1600"
  },
  "language_info": {
   "codemirror_mode": {
    "name": "ipython",
    "version": 3
   },
   "file_extension": ".py",
   "mimetype": "text/x-python",
   "name": "python",
   "nbconvert_exporter": "python",
   "pygments_lexer": "ipython3",
   "version": "3.8.6"
  }
 },
 "nbformat": 4,
 "nbformat_minor": 4
}
