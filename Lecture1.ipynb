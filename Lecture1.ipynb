{
 "cells": [
  {
   "cell_type": "markdown",
   "metadata": {},
   "source": [
    "# Lecture 1:  Numerical Integrals and Derivatives\n",
    "\n",
    "**Overview:**\n",
    "* Numerical integration.\n",
    "* Numerical derivatives.\n",
    "---"
   ]
  },
  {
   "cell_type": "code",
   "execution_count": 1,
   "metadata": {},
   "outputs": [],
   "source": [
    "import numpy as np\n",
    "import matplotlib.pyplot as plt\n",
    "from scipy import integrate"
   ]
  },
  {
   "cell_type": "markdown",
   "metadata": {},
   "source": [
    "### Functions to integrate, and some exact results"
   ]
  },
  {
   "cell_type": "code",
   "execution_count": 2,
   "metadata": {},
   "outputs": [],
   "source": [
    "def Gaussian(x,amp,mean,std_dev):\n",
    "    \"\"\"\n",
    "    A Gaussian function,unnormalized\n",
    "    \"\"\"\n",
    "    f = amp*np.exp(-1*((x - mean)**2/(2*std_dev**2))) \n",
    "    return f\n",
    "\n",
    "def polynomial(x,args):\n",
    "    \n",
    "    \"\"\"\n",
    "    A general polynomial the order of which is determined by the size\n",
    "    of the array of coefficients\n",
    "    Arguments:\n",
    "    x -- vector of x values\n",
    "    args -- an array of coeficients, the size of this array determines the order\n",
    "    of the polynomial\n",
    "    example: polynomial(x,[2,3]) will generate the line: f(x) = 2 + 3x\n",
    "    \"\"\"\n",
    "    f = 0*x\n",
    "    for (i,a) in enumerate(args): # i is the count, a is the value\n",
    "        f += a*x**(i)\n",
    "    \n",
    "    return f\n",
    "\n",
    "\n",
    "def Fermi(x):\n",
    "    \"\"\"\n",
    "    Define a function from physics that might give numerical integrators or differentiators\n",
    "    some trouble\n",
    "    \"\"\"\n",
    "    num = 1/np.sqrt(x)\n",
    "    den = np.exp(x)+1\n",
    "    return num/den\n",
    "\n",
    "\n",
    "# add white noise to a function\n",
    "def add_noise(A,f):\n",
    "    \"\"\"\n",
    "    Adds white (Gaussian distributed) noise to a function\n",
    "    \n",
    "    Arguments:\n",
    "    A -- width of the noise distribution, think of it like the amplitude of the noise\n",
    "    f - an array of values to add noise to, these represent some function \n",
    "    \"\"\"\n",
    "    \n",
    "    noise = np.random.normal(0,A,np.size(f))\n",
    "    \n",
    "    return f + noise\n",
    "    "
   ]
  },
  {
   "cell_type": "code",
   "execution_count": 4,
   "metadata": {},
   "outputs": [
    {
     "data": {
      "text/plain": [
       "[<matplotlib.lines.Line2D at 0x7f18ebae2d60>]"
      ]
     },
     "execution_count": 4,
     "metadata": {},
     "output_type": "execute_result"
    },
    {
     "data": {
      "image/png": "[encoded data removed]",
      "text/plain": [
       "<Figure size 432x288 with 1 Axes>"
      ]
     },
     "metadata": {
      "needs_background": "light"
     },
     "output_type": "display_data"
    }
   ],
   "source": [
    "x = np.arange(10)\n",
    "f = polynomial(x, [2,3])\n",
    "plt.plot(x, f)"
   ]
  },
  {
   "cell_type": "markdown",
   "metadata": {},
   "source": [
    "### Define a set of methods for taking numerical integrals. "
   ]
  },
  {
   "cell_type": "code",
   "execution_count": 7,
   "metadata": {},
   "outputs": [],
   "source": [
    "# Numerical Integration methods\n",
    "\n",
    "def riemannSum(f, start, stop, N):\n",
    "    \"\"\"\n",
    "    A simple riemann sum integrator\n",
    "    \n",
    "    Arguments:\n",
    "    f - A function to integrate, the function must take a single argument that is an independent\n",
    "    variable\n",
    "    start - lower limit of integral\n",
    "    stop - upper limit of integral\n",
    "    N - number of steps \n",
    "    \"\"\"\n",
    "    \n",
    "    range = stop - start\n",
    "    h = range/N\n",
    "    x = np.arange(start, stop+h, h)\n",
    "\n",
    "    return np.sum(f(x)) * h\n",
    "\n",
    "def Simpson(f, start, stop, N):\n",
    "    \"\"\"\n",
    "    A simple Simpson's rule integrator\n",
    "    \n",
    "    Arguments:\n",
    "    f - A function to integrate, the function must take a single argument that is an independent\n",
    "    variable\n",
    "    start - lower limit of integral\n",
    "    stop - upper limit of integral\n",
    "    N - number of steps (must be an even number)\n",
    "    \"\"\"\n",
    "    \n",
    "    width = stop - start\n",
    "    h = width/N\n",
    "    x = np.arange(start, stop+h, h)\n",
    "    \n",
    "    s = f(start) + f(stop) \n",
    "    return (2*f(x[2:-2:2]).sum() + 4*f(x[1:-2:2]).sum()+s) * h/3\n",
    "\n",
    "\n",
    "def trapz(f, start, stop, N):\n",
    "    \"\"\"\n",
    "    A trapezoidal rule integrator. Helper function to adaptive_trapz.\n",
    "    \n",
    "    Arguments:\n",
    "    f - A function to integrate, the function must take a single argument that is an independent\n",
    "    variable\n",
    "    start - lower limit of integral\n",
    "    stop - upper limit of integral\n",
    "    N - number of steps\n",
    "    \"\"\"\n",
    "    \n",
    "    width = stop - start\n",
    "    h = width / N\n",
    "    x = np.arange(start, stop + h, h)\n",
    "    \n",
    "    s = 0.5 * (f(start) + f(stop))\n",
    "    return (f(x[1:-2]).sum() + s) * h\n",
    "\n",
    "def adaptive_trapz(f,start, stop, epsilon):\n",
    "    \"\"\"\n",
    "    Write an adaptive trapezoidal integrator here\n",
    "    \n",
    "    Arguments:\n",
    "    f - a function to integrate, the function must take a single argument \n",
    "    start - lower limit of integral\n",
    "    stop - upper limit of integral\n",
    "    epsilon - error tolerance\n",
    "    \"\"\"\n",
    "    \n",
    "    N = 10\n",
    "    error = 100\n",
    "    width = stop - start\n",
    "    \n",
    "    f2 = trapz(f, start, stop, N)\n",
    "    \n",
    "    while error > epsilon:\n",
    "        f1 = f2\n",
    "        N = 2 * N\n",
    "        h = width / N\n",
    "        x = np.arange(start, stop + h, h)\n",
    "        f2 = (0.5 * f1) + (h * f(x[0:-2:2] + start))\n",
    "        error = (f2 - f1) / 3\n",
    "    \n",
    "    print(N)\n",
    "    print(error)\n",
    "    return f2\n"
   ]
  },
  {
   "cell_type": "code",
   "execution_count": 8,
   "metadata": {},
   "outputs": [
    {
     "name": "stdout",
     "output_type": "stream",
     "text": [
      "[ 0  1  2  3  4  5  6  7  8  9 10]\n",
      "[0 2 4 6 8]\n",
      "[ 5  7  9 11 13]\n",
      "5\n",
      "6\n"
     ]
    }
   ],
   "source": []
  },
  {
   "cell_type": "markdown",
   "metadata": {},
   "source": [
    "### Define a set of methods for taking numerical derivatives."
   ]
  },
  {
   "cell_type": "code",
   "execution_count": 8,
   "metadata": {},
   "outputs": [],
   "source": [
    "#numerical derivatives\n",
    "\n",
    "def forward_diff(x,f):\n",
    "    \"\"\"\n",
    "    Take a derivative using the forward difference scheme\n",
    "    Arguments:\n",
    "    x - an array of independent values\n",
    "    f - an array of dependent values i.e y = f(x)\n",
    "    \"\"\"\n",
    "    d = (f[1:] - f[:-1])/np.diff(x)\n",
    "    return d\n",
    "    \n",
    "def backward_diff(x,f):\n",
    "    \"\"\"\n",
    "    Take a derivative using the backwards difference scheme\n",
    "    Arguments:\n",
    "    x - an array of independent values\n",
    "    f - an array of dependent values i.e y = f(x)\n",
    "    \"\"\"\n",
    "    d = (f[:-1] - f[1:])/np.diff(x)\n",
    "    return d\n",
    "\n",
    "# implement a central difference formula\n",
    "def central_diff(x,f):\n",
    "    \n",
    "    d = 1\n",
    "    return d"
   ]
  },
  {
   "cell_type": "markdown",
   "metadata": {},
   "source": [
    "### Tasks\n",
    "1. Use the `riemannSum` and `Simpsons` methods above to integrate some polynomical functions of various orders. Try playing around with different numbers of steps. Can you obtain machine precision? \n",
    "2. Examine the help file for `integrate.trapz`, `integrate.simps`. and `integrate.quad`. Try comparing these routines to those you write yourself.\n",
    "3. Write a method to perform an adaptive trapezoidal integral as discussed in the lectures. How does your method compare with scipy's `integrate.quad`? Can you obtain the same accuaracy? For a given accuarcy, what method is faster and/or what method requires more iterations?\n",
    "4. Try adding noise to a function and then integrating. How does the addition of noise affect the precision of the integral?\n",
    "5. Write a method to calculate numerical derivatives using central difference formulas. Compare the forward, backwards, and central difference methods for taking derivatives of various polynomials.\n",
    "6. Simulate some experimental data by generating a periodic function (sin, cos, etc) time series and adding noise. Then try taking the derivative of this data using forward, backward, and central difference methods. Find the step size values where forward/backward difference methods become more accurate than a central difference method by comparing your numerical derivatives with the analytical results."
   ]
  },
  {
   "cell_type": "code",
   "execution_count": 23,
   "metadata": {},
   "outputs": [
    {
     "name": "stdout",
     "output_type": "stream",
     "text": [
      "Riemann sum with 100 steps: 1.446825\n",
      "Simpson's method with 100 steps: 1.3521107333333333\n",
      "Riemann sum with 1000 steps: 1.41966825\n",
      "Simpson's method with 1000 steps: 1.4100213106733335\n",
      "Scipy integrator: 1.4166666682547595\n"
     ]
    },
    {
     "data": {
      "image/png": "[encoded data removed]",
      "text/plain": [
       "<Figure size 432x288 with 1 Axes>"
      ]
     },
     "metadata": {
      "needs_background": "light"
     },
     "output_type": "display_data"
    }
   ],
   "source": [
    "# TASK 1\n",
    "\n",
    "x = np.linspace(0, 1, 1000)\n",
    "my_poly = lambda x: polynomial(x, [1, -3, 2, 5])\n",
    "q = polynomial(x, [1, -3, 2, 5])\n",
    "plt.plot(x, q)\n",
    "\n",
    "\n",
    "\n",
    "print(\"Riemann sum with 100 steps: \" + str(riemannSum(my_poly, 0, 1, 100)))\n",
    "print(\"Simpson's method with 100 steps: \" + str(Simpson(my_poly, 0, 1, 100)))\n",
    "print(\"Riemann sum with 1000 steps: \" + str(riemannSum(my_poly, 0, 1, 1000)))\n",
    "print(\"Simpson's method with 1000 steps: \" + str(Simpson(my_poly, 0, 1, 1000)))\n",
    "\n",
    "print(\"Adaptive trapezoidal with 1000 steps:\")\n",
    "\n",
    "print(\"Scipy integrator: \" + str(integrate.simps(q, x)))\n",
    "\n"
   ]
  },
  {
   "cell_type": "code",
   "execution_count": 16,
   "metadata": {},
   "outputs": [
    {
     "data": {
      "text/plain": [
       "\u001b[0;31mSignature:\u001b[0m  \u001b[0mintegrate\u001b[0m\u001b[0;34m.\u001b[0m\u001b[0msimpson\u001b[0m\u001b[0;34m(\u001b[0m\u001b[0my\u001b[0m\u001b[0;34m,\u001b[0m \u001b[0mx\u001b[0m\u001b[0;34m=\u001b[0m\u001b[0;32mNone\u001b[0m\u001b[0;34m,\u001b[0m \u001b[0mdx\u001b[0m\u001b[0;34m=\u001b[0m\u001b[0;36m1\u001b[0m\u001b[0;34m,\u001b[0m \u001b[0maxis\u001b[0m\u001b[0;34m=\u001b[0m\u001b[0;34m-\u001b[0m\u001b[0;36m1\u001b[0m\u001b[0;34m,\u001b[0m \u001b[0meven\u001b[0m\u001b[0;34m=\u001b[0m\u001b[0;34m'avg'\u001b[0m\u001b[0;34m)\u001b[0m\u001b[0;34m\u001b[0m\u001b[0;34m\u001b[0m\u001b[0m\n",
       "\u001b[0;31mDocstring:\u001b[0m\n",
       "Integrate y(x) using samples along the given axis and the composite\n",
       "Simpson's rule. If x is None, spacing of dx is assumed.\n",
       "\n",
       "If there are an even number of samples, N, then there are an odd\n",
       "number of intervals (N-1), but Simpson's rule requires an even number\n",
       "of intervals. The parameter 'even' controls how this is handled.\n",
       "\n",
       "Parameters\n",
       "----------\n",
       "y : array_like\n",
       "    Array to be integrated.\n",
       "x : array_like, optional\n",
       "    If given, the points at which `y` is sampled.\n",
       "dx : int, optional\n",
       "    Spacing of integration points along axis of `x`. Only used when\n",
       "    `x` is None. Default is 1.\n",
       "axis : int, optional\n",
       "    Axis along which to integrate. Default is the last axis.\n",
       "even : str {'avg', 'first', 'last'}, optional\n",
       "    'avg' : Average two results:1) use the first N-2 intervals with\n",
       "              a trapezoidal rule on the last interval and 2) use the last\n",
       "              N-2 intervals with a trapezoidal rule on the first interval.\n",
       "\n",
       "    'first' : Use Simpson's rule for the first N-2 intervals with\n",
       "            a trapezoidal rule on the last interval.\n",
       "\n",
       "    'last' : Use Simpson's rule for the last N-2 intervals with a\n",
       "           trapezoidal rule on the first interval.\n",
       "\n",
       "See Also\n",
       "--------\n",
       "quad: adaptive quadrature using QUADPACK\n",
       "romberg: adaptive Romberg quadrature\n",
       "quadrature: adaptive Gaussian quadrature\n",
       "fixed_quad: fixed-order Gaussian quadrature\n",
       "dblquad: double integrals\n",
       "tplquad: triple integrals\n",
       "romb: integrators for sampled data\n",
       "cumulative_trapezoid: cumulative integration for sampled data\n",
       "ode: ODE integrators\n",
       "odeint: ODE integrators\n",
       "\n",
       "Notes\n",
       "-----\n",
       "For an odd number of samples that are equally spaced the result is\n",
       "exact if the function is a polynomial of order 3 or less. If\n",
       "the samples are not equally spaced, then the result is exact only\n",
       "if the function is a polynomial of order 2 or less.\n",
       "\n",
       "Examples\n",
       "--------\n",
       ">>> from scipy import integrate\n",
       ">>> x = np.arange(0, 10)\n",
       ">>> y = np.arange(0, 10)\n",
       "\n",
       ">>> integrate.simpson(y, x)\n",
       "40.5\n",
       "\n",
       ">>> y = np.power(x, 3)\n",
       ">>> integrate.simpson(y, x)\n",
       "1642.5\n",
       ">>> integrate.quad(lambda x: x**3, 0, 9)[0]\n",
       "1640.25\n",
       "\n",
       ">>> integrate.simpson(y, x, even='first')\n",
       "1644.5\n",
       "\u001b[0;31mFile:\u001b[0m      /opt/conda/envs/phys1600/lib/python3.8/site-packages/scipy/integrate/_quadrature.py\n",
       "\u001b[0;31mType:\u001b[0m      function\n"
      ]
     },
     "metadata": {},
     "output_type": "display_data"
    }
   ],
   "source": [
    "? integrate.simpson"
   ]
  },
  {
   "cell_type": "code",
   "execution_count": 21,
   "metadata": {},
   "outputs": [],
   "source": [
    "# TASK 2\n",
    "\n",
    "#? integrate.trapezoid\n",
    "#? integrate.simpson\n",
    "#? integrate.quad"
   ]
  },
  {
   "cell_type": "markdown",
   "metadata": {},
   "source": [
    "### Example usage of some functions above"
   ]
  },
  {
   "cell_type": "code",
   "execution_count": 11,
   "metadata": {},
   "outputs": [
    {
     "data": {
      "text/plain": [
       "<matplotlib.legend.Legend at 0x7fc23a91eb50>"
      ]
     },
     "execution_count": 11,
     "metadata": {},
     "output_type": "execute_result"
    },
    {
     "data": {
      "image/png": "[encoded data removed]",
      "text/plain": [
       "<Figure size 432x288 with 1 Axes>"
      ]
     },
     "metadata": {
      "needs_background": "light"
     },
     "output_type": "display_data"
    }
   ],
   "source": [
    "# Generate array of x-values\n",
    "x = np.linspace(-10,10,1000)\n",
    "\n",
    "# Generate Gaussian function, add noise, and plot\n",
    "G = Gaussian(x, 1, 0,1)\n",
    "noisy_G = add_noise(0.1, G)\n",
    "plt.plot(x, noisy_G, label = \"Gaussian + white noise\")\n",
    "plt.plot(x, G, label = \"Gaussian\", lw = 2)\n",
    "plt.legend()"
   ]
  },
  {
   "cell_type": "code",
   "execution_count": null,
   "metadata": {},
   "outputs": [],
   "source": [
    "# using Scipy's built in integration schemes\n",
    "# integrate a Gaussian with mean=0, amplitude=1, and standard deviation of 1 \n",
    "# over a range of -100 to 100\n",
    "# there are many options and ouput arguments for this function\n",
    "scipyIntegral = integrate.quad(Gaussian, -100.0, 100.0, args = (1,0,1))\n",
    "\n",
    "# exact integral of a Gaussian: Amp 1, standard deviation = 1\n",
    "analyticalIntegral = np.sqrt(2*np.pi)\n",
    "\n",
    "# Integrate a gaussian\n",
    "print(\"Exact integral = \", analyticalIntegral)\n",
    "print(\"SciPy Integral = \", scipyIntegral[0], \"+/-\", scipyIntegral[1])"
   ]
  },
  {
   "cell_type": "code",
   "execution_count": null,
   "metadata": {},
   "outputs": [],
   "source": []
  }
 ],
 "metadata": {
  "kernelspec": {
   "display_name": "Python 3",
   "language": "python",
   "name": "phys1600"
  },
  "language_info": {
   "codemirror_mode": {
    "name": "ipython",
    "version": 3
   },
   "file_extension": ".py",
   "mimetype": "text/x-python",
   "name": "python",
   "nbconvert_exporter": "python",
   "pygments_lexer": "ipython3",
   "version": "3.8.6"
  }
 },
 "nbformat": 4,
 "nbformat_minor": 4
}
