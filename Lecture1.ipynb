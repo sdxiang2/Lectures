{
 "cells": [
  {
   "cell_type": "markdown",
   "metadata": {},
   "source": [
    "# Lecture 1:  Numerical Integrals and Derivatives\n",
    "\n",
    "**Overview:**\n",
    "* Numerical integration.\n",
    "* Numerical derivatives.\n",
    "---"
   ]
  },
  {
   "cell_type": "code",
<<<<<<< HEAD
   "execution_count": 1,
=======
   "execution_count": 2,
>>>>>>> upstream/main
   "metadata": {},
   "outputs": [],
   "source": [
    "import numpy as np\n",
    "import matplotlib.pyplot as plt\n",
    "from scipy import integrate"
   ]
  },
  {
   "cell_type": "markdown",
   "metadata": {},
   "source": [
    "### Functions to integrate, and some exact results"
   ]
  },
  {
   "cell_type": "code",
<<<<<<< HEAD
   "execution_count": 2,
=======
   "execution_count": 3,
>>>>>>> upstream/main
   "metadata": {},
   "outputs": [],
   "source": [
    "def Gaussian(x,amp,mean,std_dev):\n",
    "    \"\"\"\n",
    "    A Gaussian function,unnormalized\n",
    "    \"\"\"\n",
    "    f = amp*np.exp(-1*((x - mean)**2/(2*std_dev**2))) \n",
    "    return f\n",
    "\n",
    "def polynomial(x,args):\n",
    "    \n",
    "    \"\"\"\n",
    "    A general polynomial the order of which is determined by the size\n",
    "    of the array of coefficients\n",
    "    Arguments:\n",
    "    x -- vector of x values\n",
    "    args -- an array of coeficients, the size of this array determines the order\n",
    "    of the polynomial\n",
    "    example: polynomial(x,[2,3]) will generate the line: f(x) = 2 + 3x\n",
    "    \"\"\"\n",
    "    f = 0*x\n",
    "    for (i,a) in enumerate(args): # i is the count, a is the value\n",
    "        f += a*x**(i)\n",
    "    \n",
    "    return f\n",
    "\n",
    "\n",
    "def Fermi(x):\n",
    "    \"\"\"\n",
    "    Define a function from physics that might give numerical integrators or differentiators\n",
    "    some trouble\n",
    "    \"\"\"\n",
    "    num = 1/np.sqrt(x)\n",
    "    den = np.exp(x)+1\n",
    "    return num/den\n",
    "\n",
    "\n",
    "# add white noise to a function\n",
    "def add_noise(A,f):\n",
    "    \"\"\"\n",
    "    Adds white (Gaussian distributed) noise to a function\n",
    "    \n",
    "    Arguments:\n",
    "    A -- width of the noise distribution, think of it like the amplitude of the noise\n",
    "    f - an array of values to add noise to, these represent some function \n",
    "    \"\"\"\n",
    "    \n",
    "    noise = np.random.normal(0,A,np.size(f))\n",
    "    \n",
    "    return f + noise\n",
    "    "
   ]
  },
  {
   "cell_type": "code",
   "execution_count": 4,
   "metadata": {},
   "outputs": [
    {
     "data": {
      "text/plain": [
       "[<matplotlib.lines.Line2D at 0x7f18ebae2d60>]"
      ]
     },
     "execution_count": 4,
     "metadata": {},
     "output_type": "execute_result"
    },
    {
     "data": {
      "image/png": "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\n",
      "text/plain": [
       "<Figure size 432x288 with 1 Axes>"
      ]
     },
     "metadata": {
      "needs_background": "light"
     },
     "output_type": "display_data"
    }
   ],
   "source": [
    "x = np.arange(10)\n",
    "f = polynomial(x, [2,3])\n",
    "plt.plot(x, f)"
   ]
  },
  {
   "cell_type": "markdown",
   "metadata": {},
   "source": [
    "### Define a set of methods for taking numerical integrals. "
   ]
  },
  {
   "cell_type": "code",
<<<<<<< HEAD
   "execution_count": 7,
=======
   "execution_count": 4,
>>>>>>> upstream/main
   "metadata": {},
   "outputs": [],
   "source": [
    "# Numerical Integration methods\n",
    "\n",
    "def riemannSum(f, start, stop, N, args = None):\n",
    "    \"\"\"\n",
    "    A simple riemann sum integrator\n",
    "    \n",
    "    Arguments:\n",
    "    f - A function to integrate, the function must take a single argument that is an independent\n",
    "    variable\n",
    "    start - lower limit of integral\n",
    "    stop - upper limit of integral\n",
    "    N - number of steps \n",
    "    \"\"\"\n",
    "    \n",
    "    range = stop - start\n",
    "    h = range/N\n",
    "    x = np.arange(start, stop+h, h)\n",
    "\n",
    "    return np.sum(f(x,*args)) * h\n",
    "\n",
    "def Simpson(f, start, stop, N, args = None):\n",
    "    \"\"\"\n",
    "    A simple Simpson's rule integrator\n",
    "    \n",
    "    Arguments:\n",
    "    f - A function to integrate, the function must take a single argument that is an independent\n",
    "    variable\n",
    "    start - lower limit of integral\n",
    "    stop - upper limit of integral\n",
    "    N - number of steps (must be an even number)\n",
    "    \"\"\"\n",
    "    \n",
    "    width = stop - start\n",
    "    h = width/N\n",
    "    x = np.arange(start, stop+h, h)\n",
    "    \n",
    "    s = f(start,*args) + f(stop,*args) \n",
    "    return (2*f(x[2:-2:2],*args).sum() + 4*f(x[1:-2:2],*args).sum()+s) * h/3\n",
    "\n",
    "\n",
    "def trapz(f, start, stop, N):\n",
    "    \"\"\"\n",
    "    A trapezoidal rule integrator. Helper function to adaptive_trapz.\n",
    "    \n",
    "    Arguments:\n",
    "    f - A function to integrate, the function must take a single argument that is an independent\n",
    "    variable\n",
    "    start - lower limit of integral\n",
    "    stop - upper limit of integral\n",
    "    N - number of steps\n",
    "    \"\"\"\n",
    "    \n",
    "    width = stop - start\n",
    "    h = width / N\n",
    "    x = np.arange(start, stop + h, h)\n",
    "    \n",
    "    s = 0.5 * (f(start) + f(stop))\n",
    "    return (f(x[1:-2]).sum() + s) * h\n",
    "\n",
    "def adaptive_trapz(f,start, stop, epsilon):\n",
    "    \"\"\"\n",
    "    Write an adaptive trapezoidal integrator here\n",
    "    \n",
    "    Arguments:\n",
    "    f - a function to integrate, the function must take a single argument \n",
    "    start - lower limit of integral\n",
    "    stop - upper limit of integral\n",
    "    epsilon - error tolerance\n",
    "    \"\"\"\n",
    "    \n",
    "    N = 10\n",
    "    error = 100\n",
    "    width = stop - start\n",
    "    \n",
    "    f2 = trapz(f, start, stop, N)\n",
    "    \n",
    "    while error > epsilon:\n",
    "        f1 = f2\n",
    "        N = 2 * N\n",
    "        h = width / N\n",
    "        x = np.arange(start, stop + h, h)\n",
    "        f2 = (0.5 * f1) + (h * f(x[0:-2:2] + start))\n",
    "        error = (f2 - f1) / 3\n",
    "    \n",
    "    print(N)\n",
    "    print(error)\n",
    "    return f2\n"
   ]
  },
  {
   "cell_type": "code",
   "execution_count": 8,
   "metadata": {},
   "outputs": [
    {
     "name": "stdout",
     "output_type": "stream",
     "text": [
      "[ 0  1  2  3  4  5  6  7  8  9 10]\n",
      "[0 2 4 6 8]\n",
      "[ 5  7  9 11 13]\n",
      "5\n",
      "6\n"
     ]
    }
   ],
   "source": []
  },
  {
   "cell_type": "markdown",
   "metadata": {},
   "source": [
    "### Define a set of methods for taking numerical derivatives."
   ]
  },
  {
   "cell_type": "code",
<<<<<<< HEAD
   "execution_count": 8,
=======
   "execution_count": 5,
>>>>>>> upstream/main
   "metadata": {},
   "outputs": [],
   "source": [
    "#numerical derivatives\n",
    "\n",
    "def forward_diff(x,f):\n",
    "    \"\"\"\n",
    "    Take a derivative using the forward difference scheme\n",
    "    Arguments:\n",
    "    x - an array of independent values\n",
    "    f - an array of dependent values i.e y = f(x)\n",
    "    \"\"\"\n",
    "    d = (f[1:] - f[:-1])/np.diff(x)\n",
    "    return d\n",
    "    \n",
    "def backward_diff(x,f):\n",
    "    \"\"\"\n",
    "    Take a derivative using the backwards difference scheme\n",
    "    Arguments:\n",
    "    x - an array of independent values\n",
    "    f - an array of dependent values i.e y = f(x)\n",
    "    \"\"\"\n",
    "    d = (f[:-1] - f[1:])/np.diff(x)\n",
    "    return d\n",
    "\n",
    "# implement a central difference formula\n",
    "def central_diff(x,f):\n",
    "    \n",
    "    d = 1\n",
    "    return d"
   ]
  },
  {
   "cell_type": "markdown",
   "metadata": {},
   "source": [
    "### Tasks\n",
    "1. Use the `riemannSum` and `Simpsons` methods above to integrate some polynomical functions of various orders. Try playing around with different numbers of steps. Can you obtain machine precision? \n",
    "2. Examine the help file for `integrate.trapz`, `integrate.simps`. and `integrate.quad`. Try comparing these routines to those you write yourself.\n",
    "3. Write a method to perform an adaptive trapezoidal integral as discussed in the lectures. How does your method compare with scipy's `integrate.quad`? Can you obtain the same accuaracy? For a given accuarcy, what method is faster and/or what method requires more iterations?\n",
    "4. Try adding noise to a function and then integrating. How does the addition of noise affect the precision of the integral?\n",
    "5. Write a method to calculate numerical derivatives using central difference formulas. Compare the forward, backwards, and central difference methods for taking derivatives of various polynomials.\n",
    "6. Simulate some experimental data by generating a periodic function (sin, cos, etc) time series and adding noise. Then try taking the derivative of this data using forward, backward, and central difference methods. Find the step size values where forward/backward difference methods become more accurate than a central difference method by comparing your numerical derivatives with the analytical results."
   ]
  },
  {
   "cell_type": "code",
   "execution_count": 23,
   "metadata": {},
   "outputs": [
    {
     "name": "stdout",
     "output_type": "stream",
     "text": [
      "Riemann sum with 100 steps: 1.446825\n",
      "Simpson's method with 100 steps: 1.3521107333333333\n",
      "Riemann sum with 1000 steps: 1.41966825\n",
      "Simpson's method with 1000 steps: 1.4100213106733335\n",
      "Scipy integrator: 1.4166666682547595\n"
     ]
    },
    {
     "data": {
      "image/png": "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\n",
      "text/plain": [
       "<Figure size 432x288 with 1 Axes>"
      ]
     },
     "metadata": {
      "needs_background": "light"
     },
     "output_type": "display_data"
    }
   ],
   "source": [
    "# TASK 1\n",
    "\n",
    "x = np.linspace(0, 1, 1000)\n",
    "my_poly = lambda x: polynomial(x, [1, -3, 2, 5])\n",
    "q = polynomial(x, [1, -3, 2, 5])\n",
    "plt.plot(x, q)\n",
    "\n",
    "\n",
    "\n",
    "print(\"Riemann sum with 100 steps: \" + str(riemannSum(my_poly, 0, 1, 100)))\n",
    "print(\"Simpson's method with 100 steps: \" + str(Simpson(my_poly, 0, 1, 100)))\n",
    "print(\"Riemann sum with 1000 steps: \" + str(riemannSum(my_poly, 0, 1, 1000)))\n",
    "print(\"Simpson's method with 1000 steps: \" + str(Simpson(my_poly, 0, 1, 1000)))\n",
    "\n",
    "print(\"Adaptive trapezoidal with 1000 steps:\")\n",
    "\n",
    "print(\"Scipy integrator: \" + str(integrate.simps(q, x)))\n",
    "\n"
   ]
  },
  {
   "cell_type": "code",
   "execution_count": 16,
   "metadata": {},
   "outputs": [
    {
     "data": {
      "text/plain": [
       "\u001b[0;31mSignature:\u001b[0m  \u001b[0mintegrate\u001b[0m\u001b[0;34m.\u001b[0m\u001b[0msimpson\u001b[0m\u001b[0;34m(\u001b[0m\u001b[0my\u001b[0m\u001b[0;34m,\u001b[0m \u001b[0mx\u001b[0m\u001b[0;34m=\u001b[0m\u001b[0;32mNone\u001b[0m\u001b[0;34m,\u001b[0m \u001b[0mdx\u001b[0m\u001b[0;34m=\u001b[0m\u001b[0;36m1\u001b[0m\u001b[0;34m,\u001b[0m \u001b[0maxis\u001b[0m\u001b[0;34m=\u001b[0m\u001b[0;34m-\u001b[0m\u001b[0;36m1\u001b[0m\u001b[0;34m,\u001b[0m \u001b[0meven\u001b[0m\u001b[0;34m=\u001b[0m\u001b[0;34m'avg'\u001b[0m\u001b[0;34m)\u001b[0m\u001b[0;34m\u001b[0m\u001b[0;34m\u001b[0m\u001b[0m\n",
       "\u001b[0;31mDocstring:\u001b[0m\n",
       "Integrate y(x) using samples along the given axis and the composite\n",
       "Simpson's rule. If x is None, spacing of dx is assumed.\n",
       "\n",
       "If there are an even number of samples, N, then there are an odd\n",
       "number of intervals (N-1), but Simpson's rule requires an even number\n",
       "of intervals. The parameter 'even' controls how this is handled.\n",
       "\n",
       "Parameters\n",
       "----------\n",
       "y : array_like\n",
       "    Array to be integrated.\n",
       "x : array_like, optional\n",
       "    If given, the points at which `y` is sampled.\n",
       "dx : int, optional\n",
       "    Spacing of integration points along axis of `x`. Only used when\n",
       "    `x` is None. Default is 1.\n",
       "axis : int, optional\n",
       "    Axis along which to integrate. Default is the last axis.\n",
       "even : str {'avg', 'first', 'last'}, optional\n",
       "    'avg' : Average two results:1) use the first N-2 intervals with\n",
       "              a trapezoidal rule on the last interval and 2) use the last\n",
       "              N-2 intervals with a trapezoidal rule on the first interval.\n",
       "\n",
       "    'first' : Use Simpson's rule for the first N-2 intervals with\n",
       "            a trapezoidal rule on the last interval.\n",
       "\n",
       "    'last' : Use Simpson's rule for the last N-2 intervals with a\n",
       "           trapezoidal rule on the first interval.\n",
       "\n",
       "See Also\n",
       "--------\n",
       "quad: adaptive quadrature using QUADPACK\n",
       "romberg: adaptive Romberg quadrature\n",
       "quadrature: adaptive Gaussian quadrature\n",
       "fixed_quad: fixed-order Gaussian quadrature\n",
       "dblquad: double integrals\n",
       "tplquad: triple integrals\n",
       "romb: integrators for sampled data\n",
       "cumulative_trapezoid: cumulative integration for sampled data\n",
       "ode: ODE integrators\n",
       "odeint: ODE integrators\n",
       "\n",
       "Notes\n",
       "-----\n",
       "For an odd number of samples that are equally spaced the result is\n",
       "exact if the function is a polynomial of order 3 or less. If\n",
       "the samples are not equally spaced, then the result is exact only\n",
       "if the function is a polynomial of order 2 or less.\n",
       "\n",
       "Examples\n",
       "--------\n",
       ">>> from scipy import integrate\n",
       ">>> x = np.arange(0, 10)\n",
       ">>> y = np.arange(0, 10)\n",
       "\n",
       ">>> integrate.simpson(y, x)\n",
       "40.5\n",
       "\n",
       ">>> y = np.power(x, 3)\n",
       ">>> integrate.simpson(y, x)\n",
       "1642.5\n",
       ">>> integrate.quad(lambda x: x**3, 0, 9)[0]\n",
       "1640.25\n",
       "\n",
       ">>> integrate.simpson(y, x, even='first')\n",
       "1644.5\n",
       "\u001b[0;31mFile:\u001b[0m      /opt/conda/envs/phys1600/lib/python3.8/site-packages/scipy/integrate/_quadrature.py\n",
       "\u001b[0;31mType:\u001b[0m      function\n"
      ]
     },
     "metadata": {},
     "output_type": "display_data"
    }
   ],
   "source": [
    "? integrate.simpson"
   ]
  },
  {
   "cell_type": "code",
   "execution_count": 21,
   "metadata": {},
   "outputs": [],
   "source": [
    "# TASK 2\n",
    "\n",
    "#? integrate.trapezoid\n",
    "#? integrate.simpson\n",
    "#? integrate.quad"
   ]
  },
  {
   "cell_type": "markdown",
   "metadata": {},
   "source": [
    "### Example usage of some functions above"
   ]
  },
  {
   "cell_type": "code",
<<<<<<< HEAD
   "execution_count": 11,
=======
   "execution_count": 6,
>>>>>>> upstream/main
   "metadata": {},
   "outputs": [
    {
     "data": {
      "text/plain": [
<<<<<<< HEAD
       "<matplotlib.legend.Legend at 0x7fc23a91eb50>"
      ]
     },
     "execution_count": 11,
=======
       "<matplotlib.legend.Legend at 0x7f458ebf09d0>"
      ]
     },
     "execution_count": 6,
>>>>>>> upstream/main
     "metadata": {},
     "output_type": "execute_result"
    },
    {
     "data": {
<<<<<<< HEAD
      "image/png": "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\n",
=======
      "image/png": "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\n",
>>>>>>> upstream/main
      "text/plain": [
       "<Figure size 432x288 with 1 Axes>"
      ]
     },
     "metadata": {
      "needs_background": "light"
     },
     "output_type": "display_data"
    }
   ],
   "source": [
    "# Generate array of x-values\n",
    "x = np.linspace(-10,10,1000)\n",
    "\n",
    "# Generate Gaussian function, add noise, and plot\n",
    "G = Gaussian(x, 1, 0,1)\n",
    "noisy_G = add_noise(0.1, G)\n",
    "plt.plot(x, noisy_G, label = \"Gaussian + white noise\")\n",
    "plt.plot(x, G, label = \"Gaussian\", lw = 2)\n",
    "plt.legend()"
   ]
  },
  {
   "cell_type": "code",
   "execution_count": 10,
   "metadata": {},
   "outputs": [
    {
     "name": "stdout",
     "output_type": "stream",
     "text": [
      "Exact integral =  2.5066282746310002\n",
      "SciPy Integral =  2.506628274631001 +/- 2.592038461839533e-12\n",
      "Reimann Sum =  2.506628274630965\n",
      "Simpson's rule =  2.5066282746309647\n"
     ]
    }
   ],
   "source": [
    "# using Scipy's built in integration schemes\n",
    "# integrate a Gaussian with mean=0, amplitude=1, and standard deviation of 1 \n",
    "# over a range of -100 to 100\n",
    "# there are many options and ouput arguments for this function\n",
    "scipyIntegral = integrate.quad(Gaussian, -100.0, 100.0, args = (1,0,1))\n",
    "rsum = riemannSum(Gaussian, -100, 100, 1000, args = (1,0,1))\n",
    "simps = Simpson(Gaussian, -100, 100, 1000, args = (1,0,1))\n",
    "# exact integral of a Gaussian: Amp 1, standard deviation = 1\n",
    "analyticalIntegral = np.sqrt(2*np.pi)\n",
    "\n",
    "# Integrate a gaussian\n",
    "print(\"Exact integral = \", analyticalIntegral)\n",
    "print(\"SciPy Integral = \", scipyIntegral[0], \"+/-\", scipyIntegral[1])\n",
    "print(\"Reimann Sum = \", rsum)\n",
    "print(\"Simpson's rule = \", simps)\n"
   ]
  },
  {
   "cell_type": "code",
   "execution_count": null,
   "metadata": {},
   "outputs": [],
   "source": [
    "rsum = riemannSum(polynomial, 0, 100, 1000, args = [0])"
   ]
  }
 ],
 "metadata": {
  "kernelspec": {
   "display_name": "Python 3",
   "language": "python",
   "name": "phys1600"
  },
  "language_info": {
   "codemirror_mode": {
    "name": "ipython",
    "version": 3
   },
   "file_extension": ".py",
   "mimetype": "text/x-python",
   "name": "python",
   "nbconvert_exporter": "python",
   "pygments_lexer": "ipython3",
   "version": "3.8.6"
  }
 },
 "nbformat": 4,
 "nbformat_minor": 4
}
