{
 "cells": [
  {
   "cell_type": "markdown",
   "id": "radio-reviewer",
   "metadata": {},
   "source": [
    "# Homework 1"
   ]
  },
  {
   "cell_type": "markdown",
   "id": "metallic-brain",
   "metadata": {},
   "source": [
    "##### 11 February 2021\n",
    "##### Stacey Xiang"
   ]
  },
  {
   "cell_type": "code",
   "execution_count": 4,
   "id": "accompanied-field",
   "metadata": {},
   "outputs": [],
   "source": [
    "import numpy as np\n",
    "import matplotlib.pyplot as plt\n",
    "from scipy import integrate"
   ]
  },
  {
   "cell_type": "markdown",
   "id": "increased-requirement",
   "metadata": {},
   "source": [
    "### Problem 1a"
   ]
  },
  {
   "cell_type": "code",
   "execution_count": 10,
   "id": "twelve-consistency",
   "metadata": {},
   "outputs": [],
   "source": [
    "def f(x):\n",
    "    '''\n",
    "    Function to be integrated by adap_simps. Returns the value of the function at x.\n",
    "    param x: float\n",
    "    returns: float\n",
    "     * WARNING - if x = 0, f(x) will try to divide by 0 and break.\n",
    "    '''\n",
    "    return ((x**4)*(np.exp(x))) / ((np.exp(x) - 1)**2)"
   ]
  },
  {
   "cell_type": "code",
   "execution_count": 6,
   "id": "brief-welsh",
   "metadata": {},
   "outputs": [],
   "source": [
    "def adap_simps(f, start, stop, accuracy):\n",
    "    '''\n",
    "    Numerically calculates the integral of f from start to stop with a specified accuracy.\n",
    "    param f: function taking one value x and returning the value of some function at x\n",
    "    param start: float. The lower limit of the integral\n",
    "    param stop: float. The upper limit of the integral\n",
    "    param accuracy: float. The desired accuracy of the integral\n",
    "    returns: float\n",
    "    '''\n",
    "    error = 1\n",
    "    h = 0.1 # Step size\n",
    "    x = np.arange(start, stop + h, h)\n",
    "    \n",
    "    S0 = (1/3) * (f(start) + f(stop) + 2*(f(x[2:-3:2]).sum()))\n",
    "    T0 = (2/3) * (f(x[1:-2:2]).sum())\n",
    "    F0 = h * (S0 + 2*T0)\n",
    "    \n",
    "    S_list = [S0]\n",
    "    T_list = [T0]\n",
    "    F_list = [F0]\n",
    "    \n",
    "    while (error > accuracy):\n",
    "        h = h/2\n",
    "        x = np.arange(start, stop + h, h)\n",
    "        \n",
    "        S = S_list[-1] + T_list[-1]\n",
    "        T = (2/3) * (f(x[1:-2:2]).sum())\n",
    "        F = h * (S + 2*T)\n",
    "        \n",
    "        S_list.append(S)\n",
    "        T_list.append(T)\n",
    "        F_list.append(F)\n",
    "        \n",
    "        error = (1/15) * (F_list[-1] - F_list[-2])\n",
    "        \n",
    "    return F_list[-1]\n",
    "        "
   ]
  },
  {
   "cell_type": "code",
   "execution_count": 7,
   "id": "american-society",
   "metadata": {},
   "outputs": [
    {
     "name": "stdout",
     "output_type": "stream",
     "text": [
      "Expected value of integral: 25.273213499916608\n",
      "adap_simps integral: 25.260416826500318\n"
     ]
    }
   ],
   "source": [
    "# Testing adap_simps\n",
    "\n",
    "start = 0.001\n",
    "stop = 10\n",
    "x_list = np.arange(start, stop, 0.001)\n",
    "f_list = f(x_list)\n",
    "actual = integrate.simpson(f_list, x_list)\n",
    "mine = adap_simps(f, start, stop, 0.001)\n",
    "print(\"Expected value of integral: \" + str(actual))\n",
    "print(\"adap_simps integral: \" + str(mine))"
   ]
  },
  {
   "cell_type": "code",
   "execution_count": 11,
   "id": "widespread-classification",
   "metadata": {},
   "outputs": [],
   "source": [
    "def calc_Cv(density, volume, molar_mass, deb_temp, temp_upper, accuracy):\n",
    "    '''\n",
    "    Calculates the quantity C_v for a given material and temperature.\n",
    "    param density: the density of the material in g/cc\n",
    "    param volume: the volume of the material in cc\n",
    "    param deb_temp: the Debye temperature of the material\n",
    "    param temp_upper: the temperature upper limit\n",
    "    param accuracy: the required accuracy of the formula's integral\n",
    "    returns: float\n",
    "    '''\n",
    "    k = 1.38 * 10**(-23)\n",
    "    avogadro = 6.022 * 10**(23)\n",
    "    N = ((density * volume) / molar_mass) * avogadro\n",
    "    \n",
    "    T_list = np.arange(0.001, temp_upper, 1)\n",
    "    Cv_list = []\n",
    "    \n",
    "    for T in T_list:\n",
    "        Cv = 9 * k * N * (T/deb_temp)**3 * adap_simps(f, 0.001, (deb_temp/T), accuracy)\n",
    "        Cv_list.append(Cv)\n",
    "        \n",
    "    Cv_list = np.array(Cv_list)\n",
    "    \n",
    "    return T_list, Cv_list"
   ]
  },
  {
   "cell_type": "markdown",
   "id": "compatible-harvard",
   "metadata": {},
   "source": [
    "### Problem 1b"
   ]
  },
  {
   "cell_type": "code",
   "execution_count": 12,
   "id": "proud-trailer",
   "metadata": {},
   "outputs": [
    {
     "name": "stderr",
     "output_type": "stream",
     "text": [
      "<ipython-input-10-b186d77d55f6>:7: RuntimeWarning: overflow encountered in exp\n",
      "  return ((x**4)*(np.exp(x))) / ((np.exp(x) - 1)**2)\n",
      "<ipython-input-10-b186d77d55f6>:7: RuntimeWarning: invalid value encountered in double_scalars\n",
      "  return ((x**4)*(np.exp(x))) / ((np.exp(x) - 1)**2)\n",
      "<ipython-input-10-b186d77d55f6>:7: RuntimeWarning: overflow encountered in multiply\n",
      "  return ((x**4)*(np.exp(x))) / ((np.exp(x) - 1)**2)\n",
      "<ipython-input-10-b186d77d55f6>:7: RuntimeWarning: overflow encountered in square\n",
      "  return ((x**4)*(np.exp(x))) / ((np.exp(x) - 1)**2)\n",
      "<ipython-input-10-b186d77d55f6>:7: RuntimeWarning: invalid value encountered in true_divide\n",
      "  return ((x**4)*(np.exp(x))) / ((np.exp(x) - 1)**2)\n"
     ]
    },
    {
     "data": {
      "text/plain": [
       "[<matplotlib.lines.Line2D at 0x7f936d76a5e0>]"
      ]
     },
     "execution_count": 12,
     "metadata": {},
     "output_type": "execute_result"
    },
    {
     "data": {
      "image/png": "[encoded data removed]",
      "text/plain": [
       "<Figure size 432x288 with 1 Axes>"
      ]
     },
     "metadata": {
      "needs_background": "light"
     },
     "output_type": "display_data"
    }
   ],
   "source": [
    "# Lead\n",
    "Pb_T, Pb_Cv = calc_Cv(11.35, 1, 207.2, 105, 140, 0.001)\n",
    "\n",
    "# Aluminum\n",
    "#Al_T, Al_Cv = calc_Cv(2.7, 1, 26.98, 428, 300, 0.001)\n",
    "\n",
    "# Diamond\n",
    "#Di_T, Di_Cv = calc_Cv(3.51, 1, 12.01, 2230, 300, 0.001)\n",
    "\n",
    "plt.plot(Pb_T, Pb_Cv)\n",
    "#plt.plot(Al_T, Al_Cv)\n",
    "#plt.plot(Di_T, Di_Cv)"
   ]
  },
  {
   "cell_type": "markdown",
   "id": "documented-china",
   "metadata": {},
   "source": [
    "### RK-4 integrator for problems 2-4"
   ]
  },
  {
   "cell_type": "code",
   "execution_count": 8,
   "id": "changed-intro",
   "metadata": {},
   "outputs": [],
   "source": [
    "def RK4(g, dt, start, stop, x0):\n",
    "    '''\n",
    "    Approximates the solution to a differential equation using the Runge-Kutta 4 method.\n",
    "    param g: dx/dt as a function of x and t\n",
    "    param dt: timestep size\n",
    "    param start: start time\n",
    "    param stop: stop time\n",
    "    param x0: initial value of x\n",
    "    returns: numpy arrays of time and x\n",
    "    '''\n",
    "    t_list = np.arange(start, stop + dt, dt)\n",
    "    x_list = np.zeros(t_list.size)\n",
    "    x_list[0] = x0\n",
    "    \n",
    "    for i in range(1, t_list.size):\n",
    "        x = x_list[i-1]\n",
    "        t = t_list[i-1]\n",
    "        \n",
    "        k1 = dt * g(x, t)\n",
    "        k2 = dt * g(x + 0.5*k1, t + 0.5*dt)\n",
    "        k3 = dt * g(x + 0.5*k2, t + 0.5*dt)\n",
    "        k4 = dt * g(x + 0.5*k3, t + 0.5*dt)\n",
    "        \n",
    "        x_list[i] = x + (k1 + 2*k2 + 2*k3 + k4) / 6\n",
    "        \n",
    "    return t_list, x_list"
   ]
  },
  {
   "cell_type": "code",
   "execution_count": 9,
   "id": "micro-focus",
   "metadata": {},
   "outputs": [
    {
     "data": {
      "text/plain": [
       "[<matplotlib.lines.Line2D at 0x7f2a3d63e400>]"
      ]
     },
     "execution_count": 9,
     "metadata": {},
     "output_type": "execute_result"
    },
    {
     "data": {
      "image/png": "[encoded data removed]",
      "text/plain": [
       "<Figure size 432x288 with 1 Axes>"
      ]
     },
     "metadata": {
      "needs_background": "light"
     },
     "output_type": "display_data"
    }
   ],
   "source": [
    "# Testing RK4\n",
    "\n",
    "def g(x, t):\n",
    "    return x\n",
    "\n",
    "t_list, x_list = RK4(g, 0.001, 0, 1, 1)\n",
    "plt.plot(t_list, x_list)\n",
    "plt.plot(t_list, np.e**(t_list))"
   ]
  },
  {
   "cell_type": "code",
   "execution_count": 13,
   "id": "monetary-velvet",
   "metadata": {},
   "outputs": [],
   "source": [
    "def RK4_step(g, dt, x):\n",
    "    '''Performs one RK4 step.\n",
    "    param g: dx/dt as a function of x and t\n",
    "    param dt: timestep size\n",
    "    x: value of x at previous timestep\n",
    "    return: float'''\n",
    "    k1 = dt * g(x, t)\n",
    "    k2 = dt * g(x + 0.5*k1, t + 0.5*dt)\n",
    "    k3 = dt * g(x + 0.5*k2, t + 0.5*dt)\n",
    "    k4 = dt * g(x + 0.5*k3, t + 0.5*dt)\n",
    "    return x + (k1 + 2*k2 + 2*k3 + k4) / 6"
   ]
  },
  {
   "cell_type": "markdown",
   "id": "respiratory-chinese",
   "metadata": {},
   "source": [
    "### Problem 3a"
   ]
  },
  {
   "cell_type": "code",
   "execution_count": 24,
   "id": "impaired-jesus",
   "metadata": {},
   "outputs": [
    {
     "data": {
      "image/png": "[encoded data removed]",
      "text/plain": [
       "<Figure size 432x288 with 1 Axes>"
      ]
     },
     "metadata": {
      "needs_background": "light"
     },
     "output_type": "display_data"
    }
   ],
   "source": [
    "# RK4 integrator for 2 coupled populations\n",
    "\n",
    "start = 0\n",
    "stop = 10\n",
    "dt = 0.01\n",
    "Na0 = 100\n",
    "Nb0 = 0\n",
    "Ta = 0.33\n",
    "Tb = 1\n",
    "\n",
    "t_list = np.arange(start, stop + dt, dt)\n",
    "Na_list = np.zeros(t_list.size)\n",
    "Nb_list = np.zeros(t_list.size)\n",
    "Na_list[0] = Na0\n",
    "Nb_list[0] = Nb0\n",
    "\n",
    "for i in range(1, t_list.size):\n",
    "    Na = Na_list[i-1]\n",
    "    Nb = Nb_list[i-1]\n",
    "    t = t_list[i-1]\n",
    "    \n",
    "    Nak1 = dt * (-Na/Ta)\n",
    "    Nak2 = dt * (-(Na + 0.5*Nak1)/Ta)\n",
    "    Nak3 = dt * (-(Na + 0.5*Nak2)/Ta)\n",
    "    Nak4 = dt * (-(Na + 0.5*Nak3)/Ta)\n",
    "    Na_list[i] = Na + (Nak1 + 2*Nak2 + 2*Nak3 + Nak4) / 6\n",
    "    \n",
    "    Nbk1 = dt * ((Na/Ta) - (Nb/Tb))\n",
    "    Nbk2 = dt * ((Na/Ta) - ((Nb + 0.5*Nbk1)/Tb))\n",
    "    Nbk3 = dt * ((Na/Ta) - ((Nb + 0.5*Nbk2)/Tb))\n",
    "    Nbk4 = dt * ((Na/Ta) - ((Nb + 0.5*Nbk3)/Tb))\n",
    "    Nb_list[i] = Nb + (Nbk1 + 2*Nbk2 + 2*Nbk3 + Nbk4) / 6\n",
    "    \n",
    "plt.plot(t_list, Na_list)\n",
    "plt.plot(t_list, Nb_list)\n",
    "plt.savefig(\"Ta.33.png\")\n",
    "    "
   ]
  },
  {
   "cell_type": "markdown",
   "id": "obvious-reaction",
   "metadata": {},
   "source": [
    "### Problem 4a"
   ]
  },
  {
   "cell_type": "code",
   "execution_count": 14,
   "id": "limited-research",
   "metadata": {},
   "outputs": [],
   "source": [
    "def drag_function(Cd, A, vx, vy):\n",
    "    '''Calculates the drag forces in the x and y directions\n",
    "    param Cd: drag coefficient\n",
    "    param A: cross sectional area\n",
    "    param vx: velocity in the x direction\n",
    "    param vy: velocity in the y direction\n",
    "    returns: x drag force, y drag force (floats)'''\n",
    "    v = np.sqrt(vx**2 + vy**2)\n",
    "    total_drag = -0.5 * Cd * A * v**2\n",
    "    x_drag = total_drag * (vx/v)\n",
    "    y_drag = total_drag * (vy/v)\n",
    "    return x_drag, y_drag"
   ]
  },
  {
   "cell_type": "code",
   "execution_count": 15,
   "id": "interesting-barcelona",
   "metadata": {},
   "outputs": [
    {
     "data": {
      "text/plain": [
       "(-1487.096012164531, -1858.8700152056638)"
      ]
     },
     "execution_count": 15,
     "metadata": {},
     "output_type": "execute_result"
    }
   ],
   "source": [
    "# Testing drag_function\n",
    "drag_function(0.3, (3.7**2) * np.pi, 12, 15)"
   ]
  },
  {
   "cell_type": "code",
   "execution_count": null,
   "id": "needed-charger",
   "metadata": {},
   "outputs": [],
   "source": [
    "def baseball(v0, theta):\n",
    "    '''Calculates the position, velocity, and acceleration of a baseball in 2 dimensions with\n",
    "    air resistance.\n",
    "    param v0: initial velocity\n",
    "    param theta: launch angle\n",
    "    returns 3 numpy arrays: x position, y position, and time\n",
    "    '''\n",
    "    g = 9.8\n",
    "    Cd = 0.3\n",
    "    m = 0.15\n",
    "    A = (3.7**2) * np.pi\n",
    "    dt = 0.01\n",
    "    \n",
    "    x_list = [0]\n",
    "    y_list = [1]\n",
    "    vx_list = [v0 * np.cos(theta)]\n",
    "    vy_list = [v0 * np.sin(theta)]\n",
    "    ax_list = [0]\n",
    "    ay_list = [0]\n",
    "    t_list = [0]\n",
    "    \n",
    "    while y_list[-1] > 0:\n",
    "        x = x_list[-1]\n",
    "        y = y_list[-1]\n",
    "        vx = vx_list[-1]\n",
    "        vy = vy_list[-1]\n",
    "        ax = ax_list[-1]\n",
    "        ay = ay_list[-1]\n",
    "        \n",
    "        \n",
    "        x_list.append(vx * dt)\n",
    "        y_list.append(vy * dt)\n",
    "        \n",
    "        # RK4 to find next vx\n",
    "        k1, other = dt * drag_function(Cd, A, vx, vy)\n",
    "        \n",
    "        "
   ]
  },
  {
   "cell_type": "code",
   "execution_count": null,
   "id": "rough-communications",
   "metadata": {},
   "outputs": [],
   "source": []
  }
 ],
 "metadata": {
  "kernelspec": {
   "display_name": "Python 3",
   "language": "python",
   "name": "phys1600"
  },
  "language_info": {
   "codemirror_mode": {
    "name": "ipython",
    "version": 3
   },
   "file_extension": ".py",
   "mimetype": "text/x-python",
   "name": "python",
   "nbconvert_exporter": "python",
   "pygments_lexer": "ipython3",
   "version": "3.8.6"
  }
 },
 "nbformat": 4,
 "nbformat_minor": 5
}
